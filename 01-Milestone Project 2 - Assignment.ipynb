{
 "cells": [
  {
   "cell_type": "markdown",
   "metadata": {},
   "source": [
    "# Milestone Project 2 - Blackjack Game\n",
    "In this milestone project you will be creating a Complete BlackJack Card Game in Python.\n",
    "\n",
    "Here are the requirements:\n",
    "\n",
    "* You need to create a simple text-based [BlackJack](https://en.wikipedia.org/wiki/Blackjack) game\n",
    "* The game needs to have one player versus an automated dealer.\n",
    "* The player can stand or hit.\n",
    "* The player must be able to pick their betting amount.\n",
    "* You need to keep track of the player's total money.\n",
    "* You need to alert the player of wins, losses, or busts, etc...\n",
    "\n",
    "And most importantly:\n",
    "\n",
    "* **You must use OOP and classes in some portion of your game. You can not just use functions in your game. Use classes to help you define the Deck and the Player's hand. There are many right ways to do this, so explore it well!**\n",
    "\n",
    "\n",
    "Feel free to expand this game. Try including multiple players. Try adding in Double-Down and card splits! Remember to you are free to use any resources you want and as always:\n",
    "\n",
    "# HAVE FUN!"
   ]
  },
  {
   "cell_type": "code",
   "execution_count": 7,
   "metadata": {},
   "outputs": [],
   "source": [
    "import random\n",
    "suits = ('Hearts', 'Diamonds', 'Spades', 'Clubs')\n",
    "ranks = ('Two', 'Three', 'Four', 'Five', 'Six', 'Seven', 'Eight', 'Nine', 'Ten', 'Jack', 'Queen', 'King', 'Ace')\n",
    "values ={'Two':2, 'Three':3, 'Four':4, 'Five':5, 'Six':6, 'Seven':7, 'Eight':8, 'Nine':9, 'Ten':10, 'Jack':10, 'Queen':10, 'King':10, 'Ace':11}\n"
   ]
  },
  {
   "cell_type": "code",
   "execution_count": 8,
   "metadata": {},
   "outputs": [],
   "source": [
    "class Card():\n",
    "    \n",
    "    def __init__(self,suit,rank):\n",
    "        self.suit = suit\n",
    "        self.rank = rank\n",
    "        self.value = values[rank]\n",
    "        \n",
    "    def __str__(self):\n",
    "        return self.rank + ' of ' + self.suit\n"
   ]
  },
  {
   "cell_type": "code",
   "execution_count": 9,
   "metadata": {},
   "outputs": [],
   "source": [
    "class Deck():\n",
    "    \n",
    "    def __init__(self):\n",
    "        \n",
    "        self.all_cards = []\n",
    "        ##creates the deck\n",
    "        for suit in suits:\n",
    "            for rank in ranks:\n",
    "                ##Create the Card object here\n",
    "                created_card = Card(suit,rank)\n",
    "                self.all_cards.append(created_card)\n",
    "    ##shuffles the Deck\n",
    "    def shuffle(self):\n",
    "        \n",
    "        random.shuffle(self.all_cards)\n",
    "    ##deals a card\n",
    "    def deal_one(self):\n",
    "        return self.all_cards.pop()\n"
   ]
  },
  {
   "cell_type": "code",
   "execution_count": 10,
   "metadata": {},
   "outputs": [],
   "source": [
    "class Player():\n",
    "    \n",
    "    def __init__(self,name,balance):\n",
    "        \n",
    "        self.name = name\n",
    "        self.balance = balance\n",
    "        self.all_cards = []\n",
    "        self.ace_count = 0\n",
    "    \n",
    "    def remove_one(self):\n",
    "        return self.all_cards.pop(0)\n",
    "    \n",
    "    ##adds cards to \n",
    "    def add_cards(self,new_cards):\n",
    "        if type(new_cards) == type([]):\n",
    "            ##add multiple cards\n",
    "            self.all_cards.extend(new_cards)\n",
    "        else:\n",
    "            ##add a single card\n",
    "            self.all_cards.append(new_cards)\n",
    "            if self.all_cards[-1].rank == \"Ace\":\n",
    "                self.ace_count += 1\n",
    "            \n",
    "    def hit_check(self):\n",
    "    \n",
    "        self.hit_stay = 'WRONG'\n",
    "        self.correct_range = list(range(1,3))\n",
    "       \n",
    "          \n",
    "        ## Checks if input is a digit and is within range \n",
    "        while self.hit_stay not in self.correct_range:\n",
    "            try:\n",
    "                self.hit_stay = int(input(f\"{self.name} would you like to Hit or Stay? Press 1 to Hit or 2 to Stay :\"))\n",
    "            except:\n",
    "                print(f\"Sorry {self.name} that doesn't work please enter 1 to Hit or 2 to Stay\")\n",
    "                continue\n",
    "            if self.hit_stay == 1:\n",
    "                print(\"HIT!!\")\n",
    "                break\n",
    "            elif self.hit_stay == 2:\n",
    "                print(\"Stay\")\n",
    "                break \n",
    "        return self.hit_stay == 1\n",
    "\n",
    "\n",
    "    def sum_of_cards(self):\n",
    "        #Sums the hand when there are no aces returns sum of cards \n",
    "        if self.ace_count == 0:\n",
    "            return sum([card.value for card in self.all_cards])\n",
    "        \n",
    "        elif self.ace_count >= 1:\n",
    "        #there is one or more ace in hand it checks to see if it is valued at    \n",
    "            if sum([card.value for card in self.all_cards]) <= (self.ace_count * 10 + 11):\n",
    "                return sum([card.value for card in self.all_cards]) - (self.ace_count * 10 - 10)\n",
    "            \n",
    "            elif sum([card.value for card in self.all_cards]) > (self.ace_count * 10 + 11):\n",
    "                return sum([card.value for card in self.all_cards]) - (self.ace_count * 10)\n",
    "        \n",
    "    def deposit(self,ammount):\n",
    "        self.balance = self.balance + ammount\n",
    "        print(f\"{ammount} added to your balance\")\n",
    "    \n",
    "    def withdraw(self,ammount):\n",
    "        if ammount > self.balance:\n",
    "            print(f\"You don't have the avalible funds to withdraw {ammount}\")\n",
    "        else:\n",
    "            self.balance = self.balance - ammount\n",
    "            print(f\"{ammount} withdrawn from your balance\")\n",
    "    \n",
    "    \n",
    "        \n",
    "    \n",
    "    def __str__(self):\n",
    "        return f'{self.name} has {self.balance} in their account'\n",
    "    "
   ]
  },
  {
   "cell_type": "code",
   "execution_count": 11,
   "metadata": {},
   "outputs": [],
   "source": [
    " def replay():\n",
    "    \n",
    "        replay = 'WRONG'\n",
    "        correct_range = list(range(1,3))   \n",
    "        \n",
    "        ## Checks if input is a digit and is within range \n",
    "        while replay not in correct_range:\n",
    "            try:\n",
    "                replay = int(input(\"Would you like to play another round? 1 for Yes 2 for No :\"))\n",
    "            except:\n",
    "                print(f\"Sorry that doesn't work please enter 1 for Yes 2 for No \")\n",
    "                continue\n",
    "                \n",
    "        return replay == 1\n",
    "\n",
    "\n",
    "            "
   ]
  },
  {
   "cell_type": "code",
   "execution_count": 16,
   "metadata": {},
   "outputs": [],
   "source": [
    "def bet():\n",
    "    \n",
    "    bet_accepted = False\n",
    "    \n",
    "    while not bet_accepted:    \n",
    "        try:\n",
    "            bet_ammount = int(input(f\"{user.name} enter how much you like to bet :\"))\n",
    "            if bet_ammount > int(user.balance):\n",
    "                print(f\"you don't have the avalible funds to bet that you can bet up to {user.name}\")\n",
    "                continue\n",
    "\n",
    "            elif bet_ammount <= user.balance:  \n",
    "                user.withdraw(bet_ammount)\n",
    "                bet_accepted = True\n",
    "        \n",
    "        except:\n",
    "            print(\"That didn't work please enter a number\")\n",
    "        \n",
    "        \n",
    "    return bet_ammount"
   ]
  },
  {
   "cell_type": "code",
   "execution_count": null,
   "metadata": {},
   "outputs": [
    {
     "name": "stdout",
     "output_type": "stream",
     "text": [
      "Grif has 1300 in their account\n"
     ]
    },
    {
     "name": "stdin",
     "output_type": "stream",
     "text": [
      "Grif enter how much you like to bet : 1300\n"
     ]
    },
    {
     "name": "stdout",
     "output_type": "stream",
     "text": [
      "1300 withdrawn from your balance\n",
      "Grif you were dealt a Three of Diamonds and Four of Hearts your hand is worth 7\n",
      "The dealer reveals they have a Ten of Hearts\n"
     ]
    },
    {
     "name": "stdin",
     "output_type": "stream",
     "text": [
      "Grif would you like to Hit or Stay? Press 1 to Hit or 2 to Stay : 1\n"
     ]
    },
    {
     "name": "stdout",
     "output_type": "stream",
     "text": [
      "HIT!!\n",
      "Grif you were dealt a Four of Clubs your hand is worth 11\n"
     ]
    },
    {
     "name": "stdin",
     "output_type": "stream",
     "text": [
      "Grif would you like to Hit or Stay? Press 1 to Hit or 2 to Stay : 1\n"
     ]
    },
    {
     "name": "stdout",
     "output_type": "stream",
     "text": [
      "HIT!!\n",
      "Grif you were dealt a Two of Clubs your hand is worth 13\n"
     ]
    },
    {
     "name": "stdin",
     "output_type": "stream",
     "text": [
      "Grif would you like to Hit or Stay? Press 1 to Hit or 2 to Stay : 1\n"
     ]
    },
    {
     "name": "stdout",
     "output_type": "stream",
     "text": [
      "HIT!!\n",
      "Grif you were dealt a Ace of Clubs your hand is worth 14\n"
     ]
    },
    {
     "name": "stdin",
     "output_type": "stream",
     "text": [
      "Grif would you like to Hit or Stay? Press 1 to Hit or 2 to Stay : 1\n"
     ]
    },
    {
     "name": "stdout",
     "output_type": "stream",
     "text": [
      "HIT!!\n",
      "Grif you were dealt a Six of Diamonds your hand is worth 20\n"
     ]
    },
    {
     "name": "stdin",
     "output_type": "stream",
     "text": [
      "Grif would you like to Hit or Stay? Press 1 to Hit or 2 to Stay : 2\n"
     ]
    },
    {
     "name": "stdout",
     "output_type": "stream",
     "text": [
      "Stay\n",
      "Dealer reveals a Eight of Hearts\n",
      "BUST!!! Congrats Grif the house lost the dealer also had a Six of Spades\n",
      "2600 added to your balance\n",
      "Grif has 2600 in their account\n"
     ]
    }
   ],
   "source": [
    "from IPython.display import clear_output\n",
    "\n",
    "dealer = Player('Dealer', 1000000000)\n",
    "user = Player(input('Enter your name please :'), 1000)\n",
    "current_bet = 'WRONG'\n",
    "\n",
    "new_deck = Deck()\n",
    "new_deck.shuffle()\n",
    "\n",
    "game_on = True\n",
    "    \n",
    "while game_on:\n",
    "       \n",
    "    discard_pile = []\n",
    "    \n",
    "    for x in range(2):\n",
    "        user.add_cards(new_deck.deal_one())\n",
    "        dealer.add_cards(new_deck.deal_one())\n",
    "\n",
    "    print(user)\n",
    "    \n",
    "    current_bet = bet()\n",
    "    \n",
    "    \n",
    "    ##displays the player hand and value as well as the first card the dealer drew\n",
    "    print (f\"{user.name} you were dealt a {user.all_cards[0]} and {user.all_cards[1]} your hand is worth {user.sum_of_cards()}\")\n",
    "    print(f\"The dealer reveals they have a {dealer.all_cards[0]}\")\n",
    "\n",
    "    player_turn = True\n",
    "    dealer_turn = False\n",
    "\n",
    "    ##Runs through the users turn\n",
    "    while player_turn:\n",
    "\n",
    "        ##Player gets a Blackjack they automatically win\n",
    "        if user.sum_of_cards() == 21:\n",
    "            print(f\"BLACK JACK!!! Congrats {user.name} you won\")\n",
    "            player_turn = False\n",
    "            break\n",
    "        ##player is over 21 they bust and lose\n",
    "        elif user.sum_of_cards() > 21:\n",
    "            print(f\"BUST!!! Sorry {user.name} you lost better luck next time\")\n",
    "            player_turn = False\n",
    "            break\n",
    "        ##Player is under 21 ask to hit or stay    \n",
    "        elif user.sum_of_cards() < 21:\n",
    "            ##player Hits\n",
    "            if user.hit_check():\n",
    "                user.add_cards(new_deck.deal_one())\n",
    "                print(f\"{user.name} you were dealt a {user.all_cards[-1]} your hand is worth {user.sum_of_cards()}\")\n",
    "\n",
    "\n",
    "                continue\n",
    "            ##player Stays\n",
    "            else:\n",
    "                player_turn = False\n",
    "                dealer_turn = True\n",
    "                break\n",
    "\n",
    "    ##Runs through the dealer's turn\n",
    "    while dealer_turn:\n",
    "        ##dealer hits 21 and wins\n",
    "        if dealer.sum_of_cards() == 21:\n",
    "            print(f\"BLACK JACK!!! Sorry {user.name} you lost the dealer also had a {dealer.all_cards[1]}\")\n",
    "            dealer_turn = False\n",
    "            break    \n",
    "        \n",
    "        ##dealer hand is less than the player and \n",
    "        elif dealer.sum_of_cards() <= user.sum_of_cards():\n",
    "            dealer.add_cards(new_deck.deal_one())\n",
    "            print(f\"Dealer reveals a {dealer.all_cards[-1]}\")\n",
    "            continue\n",
    "        \n",
    "        elif dealer.sum_of_cards() > user.sum_of_cards() and dealer.sum_of_cards() < 21:\n",
    "            print(f\"Sorry  {user.name} the house wins this one the dealer also had a {dealer.all_cards[1]}\")\n",
    "            dealer_turn = False\n",
    "            break\n",
    "        \n",
    "        elif dealer.sum_of_cards() > 21:\n",
    "            print(f\"BUST!!! Congrats {user.name} the house lost the dealer also had a {dealer.all_cards[1]}\")\n",
    "            dealer_turn = False\n",
    "            break\n",
    "\n",
    "    if not dealer_turn and not player_turn:\n",
    "\n",
    "        if dealer.sum_of_cards() > 21:   \n",
    "            user.deposit(current_bet*2)\n",
    "            print(user)\n",
    "            \n",
    "        elif user.sum_of_cards() > dealer.sum_of_cards() and user.sum_of_cards() <= 21:\n",
    "            user.deposit(current_bet*2)\n",
    "            print(user)\n",
    "        else:\n",
    "            print(f\"you lost {current_bet} you new balance is {user.balance}\")\n",
    "            \n",
    "    \n",
    "        for x in range(len(user.all_cards)):\n",
    "            discard_pile.append(user.remove_one())\n",
    "        for x in range(len(dealer.all_cards)):\n",
    "            discard_pile.append(dealer.remove_one())            \n",
    "\n",
    "        if replay():\n",
    "            clear_output(wait = False)\n",
    "            player_turn = True\n",
    "        else:\n",
    "            clear_output(wait = False)\n",
    "            break"
   ]
  },
  {
   "cell_type": "code",
   "execution_count": null,
   "metadata": {},
   "outputs": [],
   "source": [
    "test_player = Player(\"test_player\",2000)\n",
    "test_deck = Deck()\n",
    "test_deck.shuffle()\n",
    "\n",
    "for x in range(52):\n",
    "    test_player.add_cards(test_deck.deal_one())\n",
    "    print(f\"{test_player.all_cards[-1]}\")\n",
    "    print(f\"{test_player.ace_count}\")\n",
    "    print(test_player.sum_of_cards())"
   ]
  }
 ],
 "metadata": {
  "kernelspec": {
   "display_name": "Python 3",
   "language": "python",
   "name": "python3"
  },
  "language_info": {
   "codemirror_mode": {
    "name": "ipython",
    "version": 3
   },
   "file_extension": ".py",
   "mimetype": "text/x-python",
   "name": "python",
   "nbconvert_exporter": "python",
   "pygments_lexer": "ipython3",
   "version": "3.7.6"
  }
 },
 "nbformat": 4,
 "nbformat_minor": 4
}
